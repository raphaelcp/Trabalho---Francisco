{
 "cells": [
  {
   "cell_type": "markdown",
   "metadata": {},
   "source": [
    "# Questão 1"
   ]
  },
  {
   "cell_type": "markdown",
   "metadata": {},
   "source": [
    "<img src=\"images/questao1.png\" width=\"800\"/>"
   ]
  },
  {
   "cell_type": "code",
   "execution_count": 1,
   "metadata": {},
   "outputs": [
    {
     "name": "stdout",
     "output_type": "stream",
     "text": [
      "(2000, 216)\n",
      "(2000, 76)\n",
      "(2000, 64)\n"
     ]
    }
   ],
   "source": [
    "import numpy as np\n",
    "import pandas as pd\n",
    "from scipy.spatial import distance\n",
    "from sklearn import preprocessing\n",
    "\n",
    "\n",
    "#Carregamento de Arquivos\n",
    "data_fac = np.recfromtxt('mfeat-fac')\n",
    "data_fou = np.recfromtxt('mfeat-fou')\n",
    "data_kar = np.recfromtxt('mfeat-kar')\n",
    "\n",
    "\n",
    "print(data_fac.shape)\n",
    "print(data_fou.shape)\n",
    "print(data_kar.shape)"
   ]
  },
  {
   "cell_type": "code",
   "execution_count": 2,
   "metadata": {},
   "outputs": [],
   "source": [
    "#Parametros\n",
    "p = 3\n",
    "K = 10\n",
    "m = 1.6\n",
    "T = 150\n",
    "eps = 10**(-10)"
   ]
  },
  {
   "cell_type": "markdown",
   "metadata": {},
   "source": [
    "Normalização dos dados"
   ]
  },
  {
   "cell_type": "code",
   "execution_count": 3,
   "metadata": {},
   "outputs": [],
   "source": [
    "#Normalização para intervalo de 0<x<1\n",
    "data_fac = preprocessing.normalize(data_fac)\n",
    "data_fou = preprocessing.normalize(data_fou)\n",
    "data_kar = preprocessing.normalize(data_kar)"
   ]
  },
  {
   "cell_type": "markdown",
   "metadata": {},
   "source": [
    "Cálculo de Matriz de Dissimilaridade"
   ]
  },
  {
   "cell_type": "code",
   "execution_count": 4,
   "metadata": {},
   "outputs": [],
   "source": [
    "def Dissimilarity(data):\n",
    "    \"\"\"Calcula distancia euclidiana entre pontos de uma matriz de dimensões\n",
    "    nxp e retorna uma matriz de dimensões nxn\"\"\"\n",
    "    \n",
    "    x=np.zeros((len(data), len(data)))\n",
    "    for i,x1 in enumerate(data):\n",
    "        for j,x2 in enumerate(data):\n",
    "            x[i,j]=np.array(np.linalg.norm(x1-x2))\n",
    "    return x"
   ]
  },
  {
   "cell_type": "code",
   "execution_count": 5,
   "metadata": {},
   "outputs": [
    {
     "name": "stdout",
     "output_type": "stream",
     "text": [
      "7.202581493059794\n"
     ]
    }
   ],
   "source": [
    "import time\n",
    "start = time.time()\n",
    "\n",
    "diss_fac = Dissimilarity(data_fac)\n",
    "diss_fou = Dissimilarity(data_fou)\n",
    "diss_kar = Dissimilarity(data_kar)\n",
    "\n",
    "end = time.time()\n",
    "print((end - start)/60)"
   ]
  },
  {
   "cell_type": "code",
   "execution_count": 6,
   "metadata": {},
   "outputs": [],
   "source": [
    "D_matrices = [diss_fac, diss_fou, diss_kar]"
   ]
  },
  {
   "cell_type": "markdown",
   "metadata": {},
   "source": [
    "### Algoritimo \"Multi-view relacional fuzzy c-medoids vectors clustering algorithm-MVFCMddV\""
   ]
  },
  {
   "cell_type": "markdown",
   "metadata": {},
   "source": [
    "<img src=\"images/ini-g.png\" width=\"800\"/>"
   ]
  },
  {
   "cell_type": "code",
   "execution_count": 7,
   "metadata": {},
   "outputs": [],
   "source": [
    "#Inicialização dos protótipos\n",
    "np.random.seed(42)\n",
    "G_matrices = [np.random.randint(1,K,diss_fac.shape[1]) for i in range(p)]"
   ]
  },
  {
   "cell_type": "markdown",
   "metadata": {},
   "source": [
    "Matriz de peso"
   ]
  },
  {
   "cell_type": "markdown",
   "metadata": {},
   "source": [
    "<img src=\"images/ini-lambda.png\" width=\"800\"/>"
   ]
  },
  {
   "cell_type": "code",
   "execution_count": 12,
   "metadata": {},
   "outputs": [],
   "source": [
    "#Inicialização dos pesos\n",
    "rel_weight = [np.ones((p,K), dtype=np.float16)]"
   ]
  },
  {
   "cell_type": "markdown",
   "metadata": {},
   "source": [
    "Cálculo de Membership"
   ]
  },
  {
   "cell_type": "markdown",
   "metadata": {},
   "source": [
    "<img src=\"images/ini-u.png\" width=\"800\"/>"
   ]
  },
  {
   "cell_type": "markdown",
   "metadata": {},
   "source": [
    "<img src=\"images/eq6.png\" width=\"800\"/>"
   ]
  }
 ],
 "metadata": {
  "kernelspec": {
   "display_name": "Python 3",
   "language": "python",
   "name": "python3"
  },
  "language_info": {
   "codemirror_mode": {
    "name": "ipython",
    "version": 3
   },
   "file_extension": ".py",
   "mimetype": "text/x-python",
   "name": "python",
   "nbconvert_exporter": "python",
   "pygments_lexer": "ipython3",
   "version": "3.6.7"
  }
 },
 "nbformat": 4,
 "nbformat_minor": 2
}
